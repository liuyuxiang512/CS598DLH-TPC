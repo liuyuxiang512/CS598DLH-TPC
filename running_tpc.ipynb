{
 "cells": [
  {
   "cell_type": "code",
   "execution_count": null,
   "id": "2c9f19a0",
   "metadata": {},
   "outputs": [],
   "source": [
    "## train"
   ]
  },
  {
   "cell_type": "code",
   "execution_count": null,
   "id": "4c40f13c",
   "metadata": {},
   "outputs": [],
   "source": [
    "!python3 -m models.run_tpc"
   ]
  },
  {
   "cell_type": "code",
   "execution_count": null,
   "id": "7a02f66d",
   "metadata": {},
   "outputs": [],
   "source": [
    "!python3 -m models.run_tpc --dataset MIMIC"
   ]
  },
  {
   "cell_type": "code",
   "execution_count": null,
   "id": "74f565b2",
   "metadata": {},
   "outputs": [],
   "source": [
    "!python3 -m models.run_tpc --loss mse"
   ]
  },
  {
   "cell_type": "code",
   "execution_count": null,
   "id": "6cef7ce7",
   "metadata": {},
   "outputs": [],
   "source": [
    "!python3 -m models.run_tpc --task mortality"
   ]
  },
  {
   "cell_type": "code",
   "execution_count": null,
   "id": "84bcc495",
   "metadata": {},
   "outputs": [],
   "source": [
    "!python3 -m models.run_tpc --dataset MIMIC --task mortality"
   ]
  },
  {
   "cell_type": "code",
   "execution_count": null,
   "id": "d7fce18d",
   "metadata": {},
   "outputs": [],
   "source": [
    "!python3 -m models.run_tpc --task multitask"
   ]
  },
  {
   "cell_type": "code",
   "execution_count": null,
   "id": "639a2f3b",
   "metadata": {},
   "outputs": [],
   "source": [
    "!python3 -m models.run_tpc --dataset MIMIC --task multitask"
   ]
  },
  {
   "cell_type": "code",
   "execution_count": null,
   "id": "a648a93f",
   "metadata": {},
   "outputs": [],
   "source": []
  },
  {
   "cell_type": "code",
   "execution_count": null,
   "id": "c63bc6f3",
   "metadata": {},
   "outputs": [],
   "source": [
    "!python3 -m models.run_tpc --model_type pointwise_only"
   ]
  },
  {
   "cell_type": "code",
   "execution_count": null,
   "id": "8f3310a8",
   "metadata": {},
   "outputs": [],
   "source": [
    "!python3 -m models.run_tpc --model_type temp_only"
   ]
  },
  {
   "cell_type": "code",
   "execution_count": null,
   "id": "63716f8e",
   "metadata": {},
   "outputs": [],
   "source": [
    "!python3 -m models.run_tpc --model_type temp_only -share_weights"
   ]
  },
  {
   "cell_type": "code",
   "execution_count": null,
   "id": "ad4cc442",
   "metadata": {},
   "outputs": [],
   "source": [
    "!python3 -m models.run_tpc -no_skip_connections"
   ]
  },
  {
   "cell_type": "code",
   "execution_count": null,
   "id": "fb6eae9c",
   "metadata": {},
   "outputs": [],
   "source": []
  },
  {
   "cell_type": "code",
   "execution_count": null,
   "id": "cf360ce5",
   "metadata": {},
   "outputs": [],
   "source": [
    "## test"
   ]
  },
  {
   "cell_type": "code",
   "execution_count": null,
   "id": "3387e583",
   "metadata": {},
   "outputs": [],
   "source": [
    "!python3 -m models.run_tpc --dataset MIMIC --mode test  # not best, provide the best"
   ]
  },
  {
   "cell_type": "code",
   "execution_count": null,
   "id": "363ab814",
   "metadata": {},
   "outputs": [],
   "source": [
    "!python3 -m models.run_tpc --dataset MIMIC --task mortality --mode test  # not best, provide the best"
   ]
  },
  {
   "cell_type": "code",
   "execution_count": null,
   "id": "437336ee",
   "metadata": {},
   "outputs": [],
   "source": [
    "!python3 -m models.run_tpc --dataset MIMIC --task multitask --mode test  # not best, provide the best"
   ]
  },
  {
   "cell_type": "code",
   "execution_count": null,
   "id": "456f0e30",
   "metadata": {},
   "outputs": [],
   "source": []
  },
  {
   "cell_type": "code",
   "execution_count": null,
   "id": "fc1cb343",
   "metadata": {},
   "outputs": [],
   "source": [
    "!python3 -m models.run_tpc --mode test  # best, no ned to rerun"
   ]
  },
  {
   "cell_type": "code",
   "execution_count": null,
   "id": "a09849b6",
   "metadata": {},
   "outputs": [],
   "source": [
    "!python3 -m models.run_tpc --loss mse --mode test  # best, no need to rerun"
   ]
  },
  {
   "cell_type": "code",
   "execution_count": null,
   "id": "71c55bdf",
   "metadata": {},
   "outputs": [],
   "source": [
    "!python3 -m models.run_tpc --task mortality --mode test  # not best, just n_epoch different, no need to rerun"
   ]
  },
  {
   "cell_type": "code",
   "execution_count": null,
   "id": "62213080",
   "metadata": {},
   "outputs": [],
   "source": [
    "!python3 -m models.run_tpc --task multitask --mode test  # possibly not best, possibly just n_epoch different, no need to rerun"
   ]
  },
  {
   "cell_type": "code",
   "execution_count": null,
   "id": "222fcc38",
   "metadata": {},
   "outputs": [],
   "source": []
  },
  {
   "cell_type": "code",
   "execution_count": null,
   "id": "46f7e60d",
   "metadata": {},
   "outputs": [],
   "source": [
    "!python3 -m models.run_tpc -no_skip_connections --mode test  # not best, does not provide best, no need to rerun"
   ]
  },
  {
   "cell_type": "code",
   "execution_count": null,
   "id": "f1eb0f68",
   "metadata": {},
   "outputs": [],
   "source": [
    "!python3 -m models.run_tpc --model_type pointwise_only --mode test  # not best, does not provide best, no need to rerun"
   ]
  },
  {
   "cell_type": "code",
   "execution_count": null,
   "id": "1a5a7f8a",
   "metadata": {},
   "outputs": [],
   "source": [
    "!python3 -m models.run_tpc --model_type temp_only --mode test  # not best, does not provide best, no need to rerun"
   ]
  },
  {
   "cell_type": "code",
   "execution_count": null,
   "id": "5a9dd3e3",
   "metadata": {},
   "outputs": [],
   "source": [
    "!python3 -m models.run_tpc --model_type temp_only -share_weights --mode test  # not best, does not provide best, no need to rerun"
   ]
  },
  {
   "cell_type": "code",
   "execution_count": null,
   "id": "874f777b",
   "metadata": {},
   "outputs": [],
   "source": []
  }
 ],
 "metadata": {
  "kernelspec": {
   "display_name": "Python [conda env:cs598dlh] *",
   "language": "python",
   "name": "conda-env-cs598dlh-py"
  },
  "language_info": {
   "codemirror_mode": {
    "name": "ipython",
    "version": 3
   },
   "file_extension": ".py",
   "mimetype": "text/x-python",
   "name": "python",
   "nbconvert_exporter": "python",
   "pygments_lexer": "ipython3",
   "version": "3.7.13"
  }
 },
 "nbformat": 4,
 "nbformat_minor": 5
}
