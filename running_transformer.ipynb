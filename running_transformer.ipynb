{
 "cells": [
  {
   "cell_type": "code",
   "execution_count": null,
   "id": "c6fbf839",
   "metadata": {},
   "outputs": [],
   "source": [
    "## train"
   ]
  },
  {
   "cell_type": "code",
   "execution_count": null,
   "id": "d3b8c928",
   "metadata": {},
   "outputs": [],
   "source": [
    "!python3 -m models.run_transformer"
   ]
  },
  {
   "cell_type": "code",
   "execution_count": null,
   "id": "60272a47",
   "metadata": {},
   "outputs": [],
   "source": [
    "!python3 -m models.run_transformer --dataset MIMIC"
   ]
  },
  {
   "cell_type": "code",
   "execution_count": null,
   "id": "21ac87bf",
   "metadata": {},
   "outputs": [],
   "source": []
  },
  {
   "cell_type": "code",
   "execution_count": null,
   "id": "ab209893",
   "metadata": {},
   "outputs": [],
   "source": [
    "## test"
   ]
  },
  {
   "cell_type": "code",
   "execution_count": null,
   "id": "74370777",
   "metadata": {},
   "outputs": [],
   "source": [
    "!python3 -m models.run_transformer --dataset MIMIC --mode test"
   ]
  },
  {
   "cell_type": "code",
   "execution_count": null,
   "id": "901290da",
   "metadata": {},
   "outputs": [],
   "source": [
    "!python3 -m models.run_transformer --mode test --batch_size_test 256"
   ]
  },
  {
   "cell_type": "code",
   "execution_count": null,
   "id": "123b33dc",
   "metadata": {},
   "outputs": [],
   "source": []
  },
  {
   "cell_type": "code",
   "execution_count": null,
   "id": "47c2d0c4",
   "metadata": {},
   "outputs": [],
   "source": [
    "## test with best hyper parameters"
   ]
  },
  {
   "cell_type": "code",
   "execution_count": null,
   "id": "5f0f97b2",
   "metadata": {},
   "outputs": [],
   "source": [
    "!python3 -m models.run_transformer --dataset MIMIC --mode test"
   ]
  },
  {
   "cell_type": "code",
   "execution_count": null,
   "id": "bea38b1b",
   "metadata": {},
   "outputs": [],
   "source": [
    "!python3 -m models.run_transformer --mode test"
   ]
  },
  {
   "cell_type": "code",
   "execution_count": null,
   "id": "27908175",
   "metadata": {},
   "outputs": [],
   "source": []
  }
 ],
 "metadata": {
  "kernelspec": {
   "display_name": "Python [conda env:cs598dlh] *",
   "language": "python",
   "name": "conda-env-cs598dlh-py"
  },
  "language_info": {
   "codemirror_mode": {
    "name": "ipython",
    "version": 3
   },
   "file_extension": ".py",
   "mimetype": "text/x-python",
   "name": "python",
   "nbconvert_exporter": "python",
   "pygments_lexer": "ipython3",
   "version": "3.7.13"
  }
 },
 "nbformat": 4,
 "nbformat_minor": 5
}
