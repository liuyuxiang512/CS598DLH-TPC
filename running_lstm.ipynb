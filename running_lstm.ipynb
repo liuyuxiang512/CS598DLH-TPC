{
 "cells": [
  {
   "cell_type": "code",
   "execution_count": null,
   "id": "578c5f2e",
   "metadata": {},
   "outputs": [],
   "source": [
    "## train"
   ]
  },
  {
   "cell_type": "code",
   "execution_count": null,
   "id": "e1cedb47",
   "metadata": {},
   "outputs": [],
   "source": [
    "!python3 -m models.run_lstm"
   ]
  },
  {
   "cell_type": "code",
   "execution_count": null,
   "id": "b2405a4f",
   "metadata": {},
   "outputs": [],
   "source": [
    "!python3 -m models.run_lstm --dataset MIMIC"
   ]
  },
  {
   "cell_type": "code",
   "execution_count": null,
   "id": "8f25431d",
   "metadata": {},
   "outputs": [],
   "source": []
  },
  {
   "cell_type": "code",
   "execution_count": null,
   "id": "69c13d85",
   "metadata": {},
   "outputs": [],
   "source": [
    "## test"
   ]
  },
  {
   "cell_type": "code",
   "execution_count": null,
   "id": "e4868cde",
   "metadata": {},
   "outputs": [],
   "source": [
    "!python3 -m models.run_lstm --mode test --batch_size_test 256"
   ]
  },
  {
   "cell_type": "code",
   "execution_count": null,
   "id": "79a85c53",
   "metadata": {},
   "outputs": [],
   "source": [
    "!python3 -m models.run_lstm --dataset MIMIC --mode test"
   ]
  },
  {
   "cell_type": "code",
   "execution_count": null,
   "id": "eb92577c",
   "metadata": {},
   "outputs": [],
   "source": []
  },
  {
   "cell_type": "code",
   "execution_count": null,
   "id": "4d150f93",
   "metadata": {},
   "outputs": [],
   "source": [
    "## test with best hyper parameters"
   ]
  },
  {
   "cell_type": "code",
   "execution_count": null,
   "id": "e0afa895",
   "metadata": {},
   "outputs": [],
   "source": [
    "!python3 -m models.run_lstm --mode test --batch_size_test 256"
   ]
  },
  {
   "cell_type": "code",
   "execution_count": null,
   "id": "3f4fac08",
   "metadata": {},
   "outputs": [],
   "source": [
    "!python3 -m models.run_lstm --dataset MIMIC --mode test"
   ]
  },
  {
   "cell_type": "code",
   "execution_count": null,
   "id": "79a928e3",
   "metadata": {},
   "outputs": [],
   "source": []
  },
  {
   "cell_type": "code",
   "execution_count": null,
   "id": "1bbe3ce0",
   "metadata": {},
   "outputs": [],
   "source": [
    "## test of channelwise lstm"
   ]
  },
  {
   "cell_type": "code",
   "execution_count": null,
   "id": "4c7c212c",
   "metadata": {},
   "outputs": [],
   "source": [
    "!python3 -m models.run_lstm --mode test -channelwise  # cannot run"
   ]
  },
  {
   "cell_type": "code",
   "execution_count": null,
   "id": "aa96dfcf",
   "metadata": {},
   "outputs": [],
   "source": [
    "!python3 -m models.run_lstm --dataset MIMIC --mode test -channelwise"
   ]
  },
  {
   "cell_type": "code",
   "execution_count": null,
   "id": "fb213bdc",
   "metadata": {},
   "outputs": [],
   "source": []
  }
 ],
 "metadata": {
  "kernelspec": {
   "display_name": "Python [conda env:cs598dlh] *",
   "language": "python",
   "name": "conda-env-cs598dlh-py"
  },
  "language_info": {
   "codemirror_mode": {
    "name": "ipython",
    "version": 3
   },
   "file_extension": ".py",
   "mimetype": "text/x-python",
   "name": "python",
   "nbconvert_exporter": "python",
   "pygments_lexer": "ipython3",
   "version": "3.7.13"
  }
 },
 "nbformat": 4,
 "nbformat_minor": 5
}
